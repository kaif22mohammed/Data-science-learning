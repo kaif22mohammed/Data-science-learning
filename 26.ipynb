{
  "nbformat": 4,
  "nbformat_minor": 0,
  "metadata": {
    "colab": {
      "name": "26.ipynb",
      "provenance": [],
      "authorship_tag": "ABX9TyPlG8cVnOFRhruJgMuxJA4F",
      "include_colab_link": true
    },
    "kernelspec": {
      "name": "python3",
      "display_name": "Python 3"
    },
    "language_info": {
      "name": "python"
    }
  },
  "cells": [
    {
      "cell_type": "markdown",
      "metadata": {
        "id": "view-in-github",
        "colab_type": "text"
      },
      "source": [
        "<a href=\"https://colab.research.google.com/github/kaif22mohammed/Data-science-learning/blob/main/26.ipynb\" target=\"_parent\"><img src=\"https://colab.research.google.com/assets/colab-badge.svg\" alt=\"Open In Colab\"/></a>"
      ]
    },
    {
      "cell_type": "code",
      "source": [
        "# Step 1. Import the necessary libraries\n",
        "import pandas as pd\n",
        "import numpy as np"
      ],
      "metadata": {
        "id": "zHqovOgKvx0_"
      },
      "execution_count": 5,
      "outputs": []
    },
    {
      "cell_type": "code",
      "source": [
        "# Step 2. Import the dataset from this address\n",
        "url = \"https://raw.githubusercontent.com/Laxminarayen/Test_Inceptez_batch_16/main/Test/Apple%20Stock/appl_1980_2014.csv\""
      ],
      "metadata": {
        "id": "qjcnsXd5xvaD"
      },
      "execution_count": 9,
      "outputs": []
    },
    {
      "cell_type": "code",
      "source": [
        "# Step 3. Assign it to a variable apple\n",
        "apple = pd.read_csv(url)\n",
        "apple.describe()"
      ],
      "metadata": {
        "colab": {
          "base_uri": "https://localhost:8080/",
          "height": 300
        },
        "id": "CEADSqp0x6_r",
        "outputId": "01105566-a30e-44d0-e284-b2155c506e25"
      },
      "execution_count": 11,
      "outputs": [
        {
          "output_type": "execute_result",
          "data": {
            "text/plain": [
              "              Open         High          Low        Close        Volume  \\\n",
              "count  8465.000000  8465.000000  8465.000000  8465.000000  8.465000e+03   \n",
              "mean     98.593926    99.848683    97.226790    98.549199  9.391214e+07   \n",
              "std     141.965350   143.155674   140.548326   141.877244  8.993202e+07   \n",
              "min      11.120000    11.120000    11.000000    11.000000  2.504000e+05   \n",
              "25%      25.750000    26.000000    25.120000    25.630000  3.704960e+07   \n",
              "50%      40.750000    41.500000    40.000000    40.750000  6.636000e+07   \n",
              "75%      79.500000    81.000000    78.740000    80.000000  1.177701e+08   \n",
              "max     702.410000   705.070000   699.570000   702.100000  1.855410e+09   \n",
              "\n",
              "         Adj Close  \n",
              "count  8465.000000  \n",
              "mean     11.095014  \n",
              "std      21.133016  \n",
              "min       0.170000  \n",
              "25%       0.900000  \n",
              "50%       1.410000  \n",
              "75%       8.660000  \n",
              "max      96.280000  "
            ],
            "text/html": [
              "\n",
              "  <div id=\"df-81fc7eaa-b9aa-47a0-97dc-a27adf3dd636\">\n",
              "    <div class=\"colab-df-container\">\n",
              "      <div>\n",
              "<style scoped>\n",
              "    .dataframe tbody tr th:only-of-type {\n",
              "        vertical-align: middle;\n",
              "    }\n",
              "\n",
              "    .dataframe tbody tr th {\n",
              "        vertical-align: top;\n",
              "    }\n",
              "\n",
              "    .dataframe thead th {\n",
              "        text-align: right;\n",
              "    }\n",
              "</style>\n",
              "<table border=\"1\" class=\"dataframe\">\n",
              "  <thead>\n",
              "    <tr style=\"text-align: right;\">\n",
              "      <th></th>\n",
              "      <th>Open</th>\n",
              "      <th>High</th>\n",
              "      <th>Low</th>\n",
              "      <th>Close</th>\n",
              "      <th>Volume</th>\n",
              "      <th>Adj Close</th>\n",
              "    </tr>\n",
              "  </thead>\n",
              "  <tbody>\n",
              "    <tr>\n",
              "      <th>count</th>\n",
              "      <td>8465.000000</td>\n",
              "      <td>8465.000000</td>\n",
              "      <td>8465.000000</td>\n",
              "      <td>8465.000000</td>\n",
              "      <td>8.465000e+03</td>\n",
              "      <td>8465.000000</td>\n",
              "    </tr>\n",
              "    <tr>\n",
              "      <th>mean</th>\n",
              "      <td>98.593926</td>\n",
              "      <td>99.848683</td>\n",
              "      <td>97.226790</td>\n",
              "      <td>98.549199</td>\n",
              "      <td>9.391214e+07</td>\n",
              "      <td>11.095014</td>\n",
              "    </tr>\n",
              "    <tr>\n",
              "      <th>std</th>\n",
              "      <td>141.965350</td>\n",
              "      <td>143.155674</td>\n",
              "      <td>140.548326</td>\n",
              "      <td>141.877244</td>\n",
              "      <td>8.993202e+07</td>\n",
              "      <td>21.133016</td>\n",
              "    </tr>\n",
              "    <tr>\n",
              "      <th>min</th>\n",
              "      <td>11.120000</td>\n",
              "      <td>11.120000</td>\n",
              "      <td>11.000000</td>\n",
              "      <td>11.000000</td>\n",
              "      <td>2.504000e+05</td>\n",
              "      <td>0.170000</td>\n",
              "    </tr>\n",
              "    <tr>\n",
              "      <th>25%</th>\n",
              "      <td>25.750000</td>\n",
              "      <td>26.000000</td>\n",
              "      <td>25.120000</td>\n",
              "      <td>25.630000</td>\n",
              "      <td>3.704960e+07</td>\n",
              "      <td>0.900000</td>\n",
              "    </tr>\n",
              "    <tr>\n",
              "      <th>50%</th>\n",
              "      <td>40.750000</td>\n",
              "      <td>41.500000</td>\n",
              "      <td>40.000000</td>\n",
              "      <td>40.750000</td>\n",
              "      <td>6.636000e+07</td>\n",
              "      <td>1.410000</td>\n",
              "    </tr>\n",
              "    <tr>\n",
              "      <th>75%</th>\n",
              "      <td>79.500000</td>\n",
              "      <td>81.000000</td>\n",
              "      <td>78.740000</td>\n",
              "      <td>80.000000</td>\n",
              "      <td>1.177701e+08</td>\n",
              "      <td>8.660000</td>\n",
              "    </tr>\n",
              "    <tr>\n",
              "      <th>max</th>\n",
              "      <td>702.410000</td>\n",
              "      <td>705.070000</td>\n",
              "      <td>699.570000</td>\n",
              "      <td>702.100000</td>\n",
              "      <td>1.855410e+09</td>\n",
              "      <td>96.280000</td>\n",
              "    </tr>\n",
              "  </tbody>\n",
              "</table>\n",
              "</div>\n",
              "      <button class=\"colab-df-convert\" onclick=\"convertToInteractive('df-81fc7eaa-b9aa-47a0-97dc-a27adf3dd636')\"\n",
              "              title=\"Convert this dataframe to an interactive table.\"\n",
              "              style=\"display:none;\">\n",
              "        \n",
              "  <svg xmlns=\"http://www.w3.org/2000/svg\" height=\"24px\"viewBox=\"0 0 24 24\"\n",
              "       width=\"24px\">\n",
              "    <path d=\"M0 0h24v24H0V0z\" fill=\"none\"/>\n",
              "    <path d=\"M18.56 5.44l.94 2.06.94-2.06 2.06-.94-2.06-.94-.94-2.06-.94 2.06-2.06.94zm-11 1L8.5 8.5l.94-2.06 2.06-.94-2.06-.94L8.5 2.5l-.94 2.06-2.06.94zm10 10l.94 2.06.94-2.06 2.06-.94-2.06-.94-.94-2.06-.94 2.06-2.06.94z\"/><path d=\"M17.41 7.96l-1.37-1.37c-.4-.4-.92-.59-1.43-.59-.52 0-1.04.2-1.43.59L10.3 9.45l-7.72 7.72c-.78.78-.78 2.05 0 2.83L4 21.41c.39.39.9.59 1.41.59.51 0 1.02-.2 1.41-.59l7.78-7.78 2.81-2.81c.8-.78.8-2.07 0-2.86zM5.41 20L4 18.59l7.72-7.72 1.47 1.35L5.41 20z\"/>\n",
              "  </svg>\n",
              "      </button>\n",
              "      \n",
              "  <style>\n",
              "    .colab-df-container {\n",
              "      display:flex;\n",
              "      flex-wrap:wrap;\n",
              "      gap: 12px;\n",
              "    }\n",
              "\n",
              "    .colab-df-convert {\n",
              "      background-color: #E8F0FE;\n",
              "      border: none;\n",
              "      border-radius: 50%;\n",
              "      cursor: pointer;\n",
              "      display: none;\n",
              "      fill: #1967D2;\n",
              "      height: 32px;\n",
              "      padding: 0 0 0 0;\n",
              "      width: 32px;\n",
              "    }\n",
              "\n",
              "    .colab-df-convert:hover {\n",
              "      background-color: #E2EBFA;\n",
              "      box-shadow: 0px 1px 2px rgba(60, 64, 67, 0.3), 0px 1px 3px 1px rgba(60, 64, 67, 0.15);\n",
              "      fill: #174EA6;\n",
              "    }\n",
              "\n",
              "    [theme=dark] .colab-df-convert {\n",
              "      background-color: #3B4455;\n",
              "      fill: #D2E3FC;\n",
              "    }\n",
              "\n",
              "    [theme=dark] .colab-df-convert:hover {\n",
              "      background-color: #434B5C;\n",
              "      box-shadow: 0px 1px 3px 1px rgba(0, 0, 0, 0.15);\n",
              "      filter: drop-shadow(0px 1px 2px rgba(0, 0, 0, 0.3));\n",
              "      fill: #FFFFFF;\n",
              "    }\n",
              "  </style>\n",
              "\n",
              "      <script>\n",
              "        const buttonEl =\n",
              "          document.querySelector('#df-81fc7eaa-b9aa-47a0-97dc-a27adf3dd636 button.colab-df-convert');\n",
              "        buttonEl.style.display =\n",
              "          google.colab.kernel.accessAllowed ? 'block' : 'none';\n",
              "\n",
              "        async function convertToInteractive(key) {\n",
              "          const element = document.querySelector('#df-81fc7eaa-b9aa-47a0-97dc-a27adf3dd636');\n",
              "          const dataTable =\n",
              "            await google.colab.kernel.invokeFunction('convertToInteractive',\n",
              "                                                     [key], {});\n",
              "          if (!dataTable) return;\n",
              "\n",
              "          const docLinkHtml = 'Like what you see? Visit the ' +\n",
              "            '<a target=\"_blank\" href=https://colab.research.google.com/notebooks/data_table.ipynb>data table notebook</a>'\n",
              "            + ' to learn more about interactive tables.';\n",
              "          element.innerHTML = '';\n",
              "          dataTable['output_type'] = 'display_data';\n",
              "          await google.colab.output.renderOutput(dataTable, element);\n",
              "          const docLink = document.createElement('div');\n",
              "          docLink.innerHTML = docLinkHtml;\n",
              "          element.appendChild(docLink);\n",
              "        }\n",
              "      </script>\n",
              "    </div>\n",
              "  </div>\n",
              "  "
            ]
          },
          "metadata": {},
          "execution_count": 11
        }
      ]
    },
    {
      "cell_type": "code",
      "source": [
        "# Step 4. Check out the type of the columns\n",
        "apple.dtypes"
      ],
      "metadata": {
        "colab": {
          "base_uri": "https://localhost:8080/"
        },
        "id": "yVSazv5ryUUZ",
        "outputId": "1f339ad6-ad3b-4979-a2aa-3469054631ed"
      },
      "execution_count": 12,
      "outputs": [
        {
          "output_type": "execute_result",
          "data": {
            "text/plain": [
              "Date          object\n",
              "Open         float64\n",
              "High         float64\n",
              "Low          float64\n",
              "Close        float64\n",
              "Volume         int64\n",
              "Adj Close    float64\n",
              "dtype: object"
            ]
          },
          "metadata": {},
          "execution_count": 12
        }
      ]
    },
    {
      "cell_type": "code",
      "source": [
        "# Step 5. Transform the Date column as a datetime type\n",
        "apple['Date'] = pd.to_datetime(apple['Date'])"
      ],
      "metadata": {
        "id": "B4V2UFPQyuPs"
      },
      "execution_count": 13,
      "outputs": []
    },
    {
      "cell_type": "code",
      "source": [
        "# Step 6. Set the date as the index\n",
        "apple.set_index('Date', inplace=True)"
      ],
      "metadata": {
        "id": "gItXJXB_y4YS"
      },
      "execution_count": 14,
      "outputs": []
    },
    {
      "cell_type": "code",
      "source": [
        "# Step 7. Is there any duplicate dates?\n",
        "apple.index.has_duplicates"
      ],
      "metadata": {
        "colab": {
          "base_uri": "https://localhost:8080/"
        },
        "id": "KAljW0MrzA7s",
        "outputId": "1d2bc868-3248-41c6-8764-eee16125a489"
      },
      "execution_count": 21,
      "outputs": [
        {
          "output_type": "execute_result",
          "data": {
            "text/plain": [
              "False"
            ]
          },
          "metadata": {},
          "execution_count": 21
        }
      ]
    },
    {
      "cell_type": "code",
      "source": [
        ""
      ],
      "metadata": {
        "id": "K0pO1X_I0m52"
      },
      "execution_count": null,
      "outputs": []
    },
    {
      "cell_type": "code",
      "source": [
        "# Step 8. Ops...it seems the index is from the most recent date. Make the first entry the oldest date.\n",
        "apple=apple.sort_index(ascending=True)\n",
        "print(apple)"
      ],
      "metadata": {
        "colab": {
          "base_uri": "https://localhost:8080/"
        },
        "id": "9P6wjdN-zMPY",
        "outputId": "a708e864-3535-4d66-8d48-03c83d18e17f"
      },
      "execution_count": 26,
      "outputs": [
        {
          "output_type": "stream",
          "name": "stdout",
          "text": [
            "             Open   High    Low  Close     Volume  Adj Close\n",
            "Date                                                        \n",
            "1980-12-12  28.75  28.87  28.75  28.75  117258400       0.45\n",
            "1980-12-15  27.38  27.38  27.25  27.25   43971200       0.42\n",
            "1980-12-16  25.37  25.37  25.25  25.25   26432000       0.39\n",
            "1980-12-17  25.87  26.00  25.87  25.87   21610400       0.40\n",
            "1980-12-18  26.63  26.75  26.63  26.63   18362400       0.41\n",
            "...           ...    ...    ...    ...        ...        ...\n",
            "2014-07-01  93.52  94.07  93.13  93.52   38170200      93.52\n",
            "2014-07-02  93.87  94.06  93.09  93.48   28420900      93.48\n",
            "2014-07-03  93.67  94.10  93.20  94.03   22891800      94.03\n",
            "2014-07-07  94.14  95.99  94.10  95.97   56305400      95.97\n",
            "2014-07-08  96.27  96.80  93.92  95.35   65130000      95.35\n",
            "\n",
            "[8465 rows x 6 columns]\n"
          ]
        }
      ]
    },
    {
      "cell_type": "code",
      "source": [
        "# Step 9. Get the last business day of each month\n",
        "apple['Month_End'] = apple.index.is_month_end\n",
        "sample = apple[apple['Month_End'] == 1]\n",
        "sample"
      ],
      "metadata": {
        "colab": {
          "base_uri": "https://localhost:8080/",
          "height": 455
        },
        "id": "nPUPP6mw1Jlr",
        "outputId": "7e58365f-2488-42cc-dbd0-c6f8fa887754"
      },
      "execution_count": 34,
      "outputs": [
        {
          "output_type": "execute_result",
          "data": {
            "text/plain": [
              "              Open    High     Low   Close     Volume  Adj Close  Month_End\n",
              "Date                                                                       \n",
              "1980-12-31   34.25   34.25   34.13   34.13    8937600       0.53       True\n",
              "1981-03-31   24.75   24.75   24.50   24.50    3998400       0.38       True\n",
              "1981-04-30   28.38   28.62   28.38   28.38    3152800       0.44       True\n",
              "1981-06-30   26.13   26.13   26.00   26.00    8976800       0.41       True\n",
              "1981-07-31   25.00   25.12   25.00   25.00    2738400       0.39       True\n",
              "...            ...     ...     ...     ...        ...        ...        ...\n",
              "2014-01-31  495.18  501.53  493.55  500.60  116199300      70.69       True\n",
              "2014-02-28  529.08  532.75  522.12  526.24   92992200      74.76       True\n",
              "2014-03-31  539.23  540.81  535.93  536.74   42167300      76.25       True\n",
              "2014-04-30  592.64  599.43  589.80  590.09  114160200      83.83       True\n",
              "2014-06-30   92.10   93.73   92.09   92.93   49482300      92.93       True\n",
              "\n",
              "[283 rows x 7 columns]"
            ],
            "text/html": [
              "\n",
              "  <div id=\"df-cdd3517b-f59e-491c-9daa-2df6a7427b4b\">\n",
              "    <div class=\"colab-df-container\">\n",
              "      <div>\n",
              "<style scoped>\n",
              "    .dataframe tbody tr th:only-of-type {\n",
              "        vertical-align: middle;\n",
              "    }\n",
              "\n",
              "    .dataframe tbody tr th {\n",
              "        vertical-align: top;\n",
              "    }\n",
              "\n",
              "    .dataframe thead th {\n",
              "        text-align: right;\n",
              "    }\n",
              "</style>\n",
              "<table border=\"1\" class=\"dataframe\">\n",
              "  <thead>\n",
              "    <tr style=\"text-align: right;\">\n",
              "      <th></th>\n",
              "      <th>Open</th>\n",
              "      <th>High</th>\n",
              "      <th>Low</th>\n",
              "      <th>Close</th>\n",
              "      <th>Volume</th>\n",
              "      <th>Adj Close</th>\n",
              "      <th>Month_End</th>\n",
              "    </tr>\n",
              "    <tr>\n",
              "      <th>Date</th>\n",
              "      <th></th>\n",
              "      <th></th>\n",
              "      <th></th>\n",
              "      <th></th>\n",
              "      <th></th>\n",
              "      <th></th>\n",
              "      <th></th>\n",
              "    </tr>\n",
              "  </thead>\n",
              "  <tbody>\n",
              "    <tr>\n",
              "      <th>1980-12-31</th>\n",
              "      <td>34.25</td>\n",
              "      <td>34.25</td>\n",
              "      <td>34.13</td>\n",
              "      <td>34.13</td>\n",
              "      <td>8937600</td>\n",
              "      <td>0.53</td>\n",
              "      <td>True</td>\n",
              "    </tr>\n",
              "    <tr>\n",
              "      <th>1981-03-31</th>\n",
              "      <td>24.75</td>\n",
              "      <td>24.75</td>\n",
              "      <td>24.50</td>\n",
              "      <td>24.50</td>\n",
              "      <td>3998400</td>\n",
              "      <td>0.38</td>\n",
              "      <td>True</td>\n",
              "    </tr>\n",
              "    <tr>\n",
              "      <th>1981-04-30</th>\n",
              "      <td>28.38</td>\n",
              "      <td>28.62</td>\n",
              "      <td>28.38</td>\n",
              "      <td>28.38</td>\n",
              "      <td>3152800</td>\n",
              "      <td>0.44</td>\n",
              "      <td>True</td>\n",
              "    </tr>\n",
              "    <tr>\n",
              "      <th>1981-06-30</th>\n",
              "      <td>26.13</td>\n",
              "      <td>26.13</td>\n",
              "      <td>26.00</td>\n",
              "      <td>26.00</td>\n",
              "      <td>8976800</td>\n",
              "      <td>0.41</td>\n",
              "      <td>True</td>\n",
              "    </tr>\n",
              "    <tr>\n",
              "      <th>1981-07-31</th>\n",
              "      <td>25.00</td>\n",
              "      <td>25.12</td>\n",
              "      <td>25.00</td>\n",
              "      <td>25.00</td>\n",
              "      <td>2738400</td>\n",
              "      <td>0.39</td>\n",
              "      <td>True</td>\n",
              "    </tr>\n",
              "    <tr>\n",
              "      <th>...</th>\n",
              "      <td>...</td>\n",
              "      <td>...</td>\n",
              "      <td>...</td>\n",
              "      <td>...</td>\n",
              "      <td>...</td>\n",
              "      <td>...</td>\n",
              "      <td>...</td>\n",
              "    </tr>\n",
              "    <tr>\n",
              "      <th>2014-01-31</th>\n",
              "      <td>495.18</td>\n",
              "      <td>501.53</td>\n",
              "      <td>493.55</td>\n",
              "      <td>500.60</td>\n",
              "      <td>116199300</td>\n",
              "      <td>70.69</td>\n",
              "      <td>True</td>\n",
              "    </tr>\n",
              "    <tr>\n",
              "      <th>2014-02-28</th>\n",
              "      <td>529.08</td>\n",
              "      <td>532.75</td>\n",
              "      <td>522.12</td>\n",
              "      <td>526.24</td>\n",
              "      <td>92992200</td>\n",
              "      <td>74.76</td>\n",
              "      <td>True</td>\n",
              "    </tr>\n",
              "    <tr>\n",
              "      <th>2014-03-31</th>\n",
              "      <td>539.23</td>\n",
              "      <td>540.81</td>\n",
              "      <td>535.93</td>\n",
              "      <td>536.74</td>\n",
              "      <td>42167300</td>\n",
              "      <td>76.25</td>\n",
              "      <td>True</td>\n",
              "    </tr>\n",
              "    <tr>\n",
              "      <th>2014-04-30</th>\n",
              "      <td>592.64</td>\n",
              "      <td>599.43</td>\n",
              "      <td>589.80</td>\n",
              "      <td>590.09</td>\n",
              "      <td>114160200</td>\n",
              "      <td>83.83</td>\n",
              "      <td>True</td>\n",
              "    </tr>\n",
              "    <tr>\n",
              "      <th>2014-06-30</th>\n",
              "      <td>92.10</td>\n",
              "      <td>93.73</td>\n",
              "      <td>92.09</td>\n",
              "      <td>92.93</td>\n",
              "      <td>49482300</td>\n",
              "      <td>92.93</td>\n",
              "      <td>True</td>\n",
              "    </tr>\n",
              "  </tbody>\n",
              "</table>\n",
              "<p>283 rows × 7 columns</p>\n",
              "</div>\n",
              "      <button class=\"colab-df-convert\" onclick=\"convertToInteractive('df-cdd3517b-f59e-491c-9daa-2df6a7427b4b')\"\n",
              "              title=\"Convert this dataframe to an interactive table.\"\n",
              "              style=\"display:none;\">\n",
              "        \n",
              "  <svg xmlns=\"http://www.w3.org/2000/svg\" height=\"24px\"viewBox=\"0 0 24 24\"\n",
              "       width=\"24px\">\n",
              "    <path d=\"M0 0h24v24H0V0z\" fill=\"none\"/>\n",
              "    <path d=\"M18.56 5.44l.94 2.06.94-2.06 2.06-.94-2.06-.94-.94-2.06-.94 2.06-2.06.94zm-11 1L8.5 8.5l.94-2.06 2.06-.94-2.06-.94L8.5 2.5l-.94 2.06-2.06.94zm10 10l.94 2.06.94-2.06 2.06-.94-2.06-.94-.94-2.06-.94 2.06-2.06.94z\"/><path d=\"M17.41 7.96l-1.37-1.37c-.4-.4-.92-.59-1.43-.59-.52 0-1.04.2-1.43.59L10.3 9.45l-7.72 7.72c-.78.78-.78 2.05 0 2.83L4 21.41c.39.39.9.59 1.41.59.51 0 1.02-.2 1.41-.59l7.78-7.78 2.81-2.81c.8-.78.8-2.07 0-2.86zM5.41 20L4 18.59l7.72-7.72 1.47 1.35L5.41 20z\"/>\n",
              "  </svg>\n",
              "      </button>\n",
              "      \n",
              "  <style>\n",
              "    .colab-df-container {\n",
              "      display:flex;\n",
              "      flex-wrap:wrap;\n",
              "      gap: 12px;\n",
              "    }\n",
              "\n",
              "    .colab-df-convert {\n",
              "      background-color: #E8F0FE;\n",
              "      border: none;\n",
              "      border-radius: 50%;\n",
              "      cursor: pointer;\n",
              "      display: none;\n",
              "      fill: #1967D2;\n",
              "      height: 32px;\n",
              "      padding: 0 0 0 0;\n",
              "      width: 32px;\n",
              "    }\n",
              "\n",
              "    .colab-df-convert:hover {\n",
              "      background-color: #E2EBFA;\n",
              "      box-shadow: 0px 1px 2px rgba(60, 64, 67, 0.3), 0px 1px 3px 1px rgba(60, 64, 67, 0.15);\n",
              "      fill: #174EA6;\n",
              "    }\n",
              "\n",
              "    [theme=dark] .colab-df-convert {\n",
              "      background-color: #3B4455;\n",
              "      fill: #D2E3FC;\n",
              "    }\n",
              "\n",
              "    [theme=dark] .colab-df-convert:hover {\n",
              "      background-color: #434B5C;\n",
              "      box-shadow: 0px 1px 3px 1px rgba(0, 0, 0, 0.15);\n",
              "      filter: drop-shadow(0px 1px 2px rgba(0, 0, 0, 0.3));\n",
              "      fill: #FFFFFF;\n",
              "    }\n",
              "  </style>\n",
              "\n",
              "      <script>\n",
              "        const buttonEl =\n",
              "          document.querySelector('#df-cdd3517b-f59e-491c-9daa-2df6a7427b4b button.colab-df-convert');\n",
              "        buttonEl.style.display =\n",
              "          google.colab.kernel.accessAllowed ? 'block' : 'none';\n",
              "\n",
              "        async function convertToInteractive(key) {\n",
              "          const element = document.querySelector('#df-cdd3517b-f59e-491c-9daa-2df6a7427b4b');\n",
              "          const dataTable =\n",
              "            await google.colab.kernel.invokeFunction('convertToInteractive',\n",
              "                                                     [key], {});\n",
              "          if (!dataTable) return;\n",
              "\n",
              "          const docLinkHtml = 'Like what you see? Visit the ' +\n",
              "            '<a target=\"_blank\" href=https://colab.research.google.com/notebooks/data_table.ipynb>data table notebook</a>'\n",
              "            + ' to learn more about interactive tables.';\n",
              "          element.innerHTML = '';\n",
              "          dataTable['output_type'] = 'display_data';\n",
              "          await google.colab.output.renderOutput(dataTable, element);\n",
              "          const docLink = document.createElement('div');\n",
              "          docLink.innerHTML = docLinkHtml;\n",
              "          element.appendChild(docLink);\n",
              "        }\n",
              "      </script>\n",
              "    </div>\n",
              "  </div>\n",
              "  "
            ]
          },
          "metadata": {},
          "execution_count": 34
        }
      ]
    },
    {
      "cell_type": "code",
      "source": [
        "# Step 10. What is the difference in days between the first day and the oldest\n",
        "diff = apple.index.max() - apple.index.min() \n",
        "diff"
      ],
      "metadata": {
        "colab": {
          "base_uri": "https://localhost:8080/"
        },
        "id": "L4AwW_hO1J01",
        "outputId": "ea871dba-4a99-4723-aeb0-b57db18a3499"
      },
      "execution_count": 30,
      "outputs": [
        {
          "output_type": "execute_result",
          "data": {
            "text/plain": [
              "Timedelta('12261 days 00:00:00')"
            ]
          },
          "metadata": {},
          "execution_count": 30
        }
      ]
    },
    {
      "cell_type": "code",
      "source": [
        "# Step 11. How many months in the data we have?\n",
        "apple[\"month\"] = pd.DatetimeIndex(apple.index).month\n",
        "apple[\"month\"].count()"
      ],
      "metadata": {
        "colab": {
          "base_uri": "https://localhost:8080/"
        },
        "id": "STPfW5KD2nRP",
        "outputId": "177e8236-b6df-46e2-9f2b-719cf7aec65e"
      },
      "execution_count": 35,
      "outputs": [
        {
          "output_type": "execute_result",
          "data": {
            "text/plain": [
              "8465"
            ]
          },
          "metadata": {},
          "execution_count": 35
        }
      ]
    },
    {
      "cell_type": "code",
      "source": [
        "# Step 12. Plot the 'Adj Close' value. Set the size of the figure to 13.5 x 9 inches\n",
        "import matplotlib.pyplot as plt\n",
        "plt.figure(figsize=(13.5, 9))\n",
        "plt.hist(apple[\"Adj Close\"])\n",
        "plt.show()"
      ],
      "metadata": {
        "colab": {
          "base_uri": "https://localhost:8080/",
          "height": 537
        },
        "id": "ftZetf-G22zy",
        "outputId": "52aabec6-52f5-4723-d80b-bae1207700c4"
      },
      "execution_count": 36,
      "outputs": [
        {
          "output_type": "display_data",
          "data": {
            "text/plain": [
              "<Figure size 972x648 with 1 Axes>"
            ],
            "image/png": "[encoded data removed]"
          },
          "metadata": {
            "needs_background": "light"
          }
        }
      ]
    },
    {
      "cell_type": "code",
      "source": [
        "# BONUS: Create your own question and answer it.\n"
      ],
      "metadata": {
        "id": "bEf_pwSR27Bq"
      },
      "execution_count": null,
      "outputs": []
    }
  ]
}